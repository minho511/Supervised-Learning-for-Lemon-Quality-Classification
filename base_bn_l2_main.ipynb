{
 "cells": [
  {
   "cell_type": "code",
   "execution_count": 34,
   "metadata": {},
   "outputs": [],
   "source": [
    "import os\n",
    "import cv2\n",
    "import torch\n",
    "import torchvision\n",
    "import torchvision.transforms as transforms\n",
    "import torch.optim as optim\n",
    "import matplotlib.pyplot as plt\n",
    "import numpy as np\n",
    "from PIL import Image\n",
    "from torch.utils.data import DataLoader, Dataset\n",
    "import torch.nn as nn\n",
    "import torch.nn.functional as F"
   ]
  },
  {
   "cell_type": "code",
   "execution_count": 35,
   "metadata": {
    "scrolled": true
   },
   "outputs": [
    {
     "data": {
      "text/plain": [
       "True"
      ]
     },
     "execution_count": 35,
     "metadata": {},
     "output_type": "execute_result"
    }
   ],
   "source": [
    "device = torch.device(\"cuda:0\" if torch.cuda.is_available() else \"cpu\")\n",
    "\n",
    "torch.cuda.is_available()"
   ]
  },
  {
   "cell_type": "code",
   "execution_count": 36,
   "metadata": {},
   "outputs": [],
   "source": [
    "\n",
    "img_train = []\n",
    "cnt = 0\n",
    "train_path = './datasets/dataset/train'\n",
    "for (root, dirs, files) in os.walk(train_path):\n",
    "    for file in files:\n",
    "        if file[-4:] != '.jpg':\n",
    "            continue\n",
    "        if file.split('_')[0] == \"bad\":\n",
    "            cnt += 1\n",
    "            if cnt > 40:\n",
    "                continue\n",
    "        img_train.append(os.path.join(root, file))\n",
    "        \n",
    "img_test = []\n",
    "\n",
    "test_path = './datasets/dataset/test'\n",
    "for (root, dirs, files) in os.walk(test_path):\n",
    "    for file in files:\n",
    "        if file[-4:] != '.jpg':\n",
    "            continue\n",
    "        img_test.append(os.path.join(root, file))"
   ]
  },
  {
   "cell_type": "code",
   "execution_count": 37,
   "metadata": {},
   "outputs": [],
   "source": [
    "class LemonQualityDataset(Dataset):\n",
    "    def __init__(self, img_paths, transform):\n",
    "        super(LemonQualityDataset, self).__init__()\n",
    "        self.img_paths = img_paths\n",
    "        self.transform = transform\n",
    "        \n",
    "    def __len__(self):\n",
    "        return len(self.img_paths)\n",
    "    \n",
    "    def __getitem__(self, idx):\n",
    "        path = self.img_paths[idx]\n",
    "        # image\n",
    "        image = cv2.imread(path)\n",
    "        image = cv2.cvtColor(image, cv2.COLOR_BGR2RGB)\n",
    "        image = np.asarray(image, dtype=np.uint8)\n",
    "        image = Image.fromarray(image.astype(np.uint8))\n",
    "        image = self.transform(image)\n",
    "\n",
    "        # label\n",
    "        label = 0 if path.split('/')[-2] == \"bad\" else 1\n",
    "        return image.clone(), np.asarray(label, dtype=np.float32)"
   ]
  },
  {
   "cell_type": "code",
   "execution_count": 38,
   "metadata": {},
   "outputs": [],
   "source": [
    "\n",
    "transform = transforms.Compose([\n",
    "    transforms.ToTensor(),\n",
    "    transforms.Resize((224, 224)),\n",
    "    transforms.Normalize(\n",
    "        [0.485, 0.456, 0.406],\n",
    "        [0.229, 0.224, 0.225]),\n",
    "])\n"
   ]
  },
  {
   "cell_type": "code",
   "execution_count": 39,
   "metadata": {},
   "outputs": [],
   "source": [
    "train_dataset = LemonQualityDataset(img_train, transform)\n",
    "test_dataset = LemonQualityDataset(img_test, transform)"
   ]
  },
  {
   "cell_type": "code",
   "execution_count": 40,
   "metadata": {},
   "outputs": [],
   "source": [
    "\n",
    "train_loader = DataLoader(train_dataset, batch_size=128, shuffle=True)\n",
    "test_loader = DataLoader(test_dataset, batch_size = 128, shuffle= True)"
   ]
  },
  {
   "cell_type": "code",
   "execution_count": 41,
   "metadata": {
    "scrolled": false
   },
   "outputs": [
    {
     "data": {
      "image/png": "[encoded data removed]",
      "text/plain": [
       "<Figure size 640x480 with 2 Axes>"
      ]
     },
     "metadata": {},
     "output_type": "display_data"
    }
   ],
   "source": [
    "train_y = []\n",
    "train_y_0 = 0\n",
    "train_y_1 = 0\n",
    "test_y_0 = 0\n",
    "test_y_1 = 0\n",
    "for x, y in train_loader:\n",
    "    for t in y:\n",
    "        if t == 1:\n",
    "            train_y_1+=1\n",
    "        else:\n",
    "            train_y_0+=1\n",
    "        train_y.append(t)\n",
    "test_y = []\n",
    "for x, y in test_loader:\n",
    "    for t in y:\n",
    "        if t == 1:\n",
    "            test_y_1+=1\n",
    "        else:\n",
    "            test_y_0+=1\n",
    "        test_y.append(t)\n",
    "\n",
    "plt.subplot(1, 2, 1)\n",
    "plt.hist(train_y)\n",
    "plt.subplot(1, 2, 2)\n",
    "plt.hist(test_y)\n",
    "plt.show()\n"
   ]
  },
  {
   "cell_type": "code",
   "execution_count": 42,
   "metadata": {
    "scrolled": true
   },
   "outputs": [
    {
     "name": "stdout",
     "output_type": "stream",
     "text": [
      "40\n",
      "788\n",
      "337\n",
      "337\n"
     ]
    }
   ],
   "source": [
    "print(train_y_0)\n",
    "print(train_y_1)\n",
    "print(test_y_0)\n",
    "print(test_y_1)"
   ]
  },
  {
   "cell_type": "code",
   "execution_count": 43,
   "metadata": {},
   "outputs": [],
   "source": [
    "class Net(nn.Module):\n",
    "    def __init__(self):\n",
    "        super().__init__()\n",
    "        self.conv1 = nn.Conv2d(3, 24, 5)\n",
    "        self.pool = nn.MaxPool2d(2, 2)\n",
    "        self.conv2 = nn.Conv2d(24, 36, 5)\n",
    "        self.conv3 = nn.Conv2d(36, 12, 5)\n",
    "        self.fc1 = nn.Linear(6912, 256)\n",
    "        self.fc2 = nn.Linear(256, 128)\n",
    "        self.fc3 = nn.Linear(128, 1)\n",
    "        self.bn1 = nn.BatchNorm1d(256)\n",
    "        self.bn2 = nn.BatchNorm1d(128)\n",
    "    def forward(self, x):\n",
    "        x = self.pool(F.relu(self.conv1(x)))\n",
    "        x = self.pool(F.relu(self.conv2(x)))\n",
    "        feat = self.pool(F.relu(self.conv3(x)))\n",
    "        x = torch.flatten(feat, 1) # flatten all dimensions except batch\n",
    "        x = F.relu(self.bn1(self.fc1(x)))\n",
    "        score = F.relu(self.bn2(self.fc2(x)))\n",
    "        out = self.fc3(score)\n",
    "        return torch.sigmoid(out), (score, feat)\n",
    "\n",
    "\n",
    "net = Net().to(0)"
   ]
  },
  {
   "cell_type": "code",
   "execution_count": 44,
   "metadata": {},
   "outputs": [],
   "source": [
    "criterion = nn.BCELoss()\n",
    "optimizer = optim.Adam(net.parameters(), lr=0.0001, weight_decay=0.0005)\n"
   ]
  },
  {
   "cell_type": "code",
   "execution_count": 45,
   "metadata": {},
   "outputs": [
    {
     "name": "stdout",
     "output_type": "stream",
     "text": [
      "Epoch : 1 (0/7) loss: 0.53994 d: 0.66434\n",
      "Epoch : 1 (1/7) loss: 0.49396 d: 0.66131\n",
      "Epoch : 1 (2/7) loss: 0.48403 d: 0.65655\n",
      "Epoch : 1 (3/7) loss: 0.46197 d: 0.65472\n",
      "Epoch : 1 (4/7) loss: 0.47235 d: 0.65545\n",
      "Epoch : 1 (5/7) loss: 0.45646 d: 0.64368\n",
      "Epoch : 1 (6/7) loss: 0.44836 d: 0.63402\n",
      "Epoch : 2 (0/7) loss: 0.41945 d: 0.62569\n",
      "Epoch : 2 (1/7) loss: 0.42033 d: 0.62441\n",
      "Epoch : 2 (2/7) loss: 0.40271 d: 0.62835\n",
      "Epoch : 2 (3/7) loss: 0.38932 d: 0.62272\n",
      "Epoch : 2 (4/7) loss: 0.38617 d: 0.62404\n",
      "Epoch : 2 (5/7) loss: 0.38616 d: 0.61940\n",
      "Epoch : 2 (6/7) loss: 0.39842 d: 0.60770\n",
      "Epoch : 3 (0/7) loss: 0.38928 d: 0.60466\n",
      "Epoch : 3 (1/7) loss: 0.36281 d: 0.60385\n",
      "Epoch : 3 (2/7) loss: 0.36238 d: 0.60608\n",
      "Epoch : 3 (3/7) loss: 0.34643 d: 0.59987\n",
      "Epoch : 3 (4/7) loss: 0.34898 d: 0.59375\n",
      "Epoch : 3 (5/7) loss: 0.33983 d: 0.60164\n",
      "Epoch : 3 (6/7) loss: 0.33343 d: 0.58819\n",
      "Epoch : 4 (0/7) loss: 0.33970 d: 0.58878\n",
      "Epoch : 4 (1/7) loss: 0.33812 d: 0.59646\n",
      "Epoch : 4 (2/7) loss: 0.33030 d: 0.59338\n",
      "Epoch : 4 (3/7) loss: 0.31966 d: 0.56827\n",
      "Epoch : 4 (4/7) loss: 0.33157 d: 0.58507\n",
      "Epoch : 4 (5/7) loss: 0.29053 d: 0.57098\n",
      "Epoch : 4 (6/7) loss: 0.31277 d: 0.58915\n",
      "Epoch : 5 (0/7) loss: 0.31079 d: 0.56471\n",
      "Epoch : 5 (1/7) loss: 0.27080 d: 0.57321\n",
      "Epoch : 5 (2/7) loss: 0.29687 d: 0.56947\n",
      "Epoch : 5 (3/7) loss: 0.30381 d: 0.57752\n",
      "Epoch : 5 (4/7) loss: 0.31352 d: 0.58336\n",
      "Epoch : 5 (5/7) loss: 0.31066 d: 0.57826\n",
      "Epoch : 5 (6/7) loss: 0.29307 d: 0.57564\n",
      "Epoch : 6 (0/7) loss: 0.25659 d: 0.54579\n",
      "Epoch : 6 (1/7) loss: 0.29744 d: 0.56752\n",
      "Epoch : 6 (2/7) loss: 0.28343 d: 0.56287\n",
      "Epoch : 6 (3/7) loss: 0.26475 d: 0.55752\n",
      "Epoch : 6 (4/7) loss: 0.26910 d: 0.55602\n",
      "Epoch : 6 (5/7) loss: 0.26284 d: 0.55669\n",
      "Epoch : 6 (6/7) loss: 0.25443 d: 0.53896\n",
      "Epoch : 7 (0/7) loss: 0.27113 d: 0.55381\n",
      "Epoch : 7 (1/7) loss: 0.23340 d: 0.52344\n",
      "Epoch : 7 (2/7) loss: 0.26425 d: 0.55394\n",
      "Epoch : 7 (3/7) loss: 0.26435 d: 0.54889\n",
      "Epoch : 7 (4/7) loss: 0.22106 d: 0.51218\n",
      "Epoch : 7 (5/7) loss: 0.24025 d: 0.53986\n",
      "Epoch : 7 (6/7) loss: 0.23238 d: 0.53697\n",
      "Epoch : 8 (0/7) loss: 0.24745 d: 0.53631\n",
      "Epoch : 8 (1/7) loss: 0.23884 d: 0.52422\n",
      "Epoch : 8 (2/7) loss: 0.24003 d: 0.51242\n",
      "Epoch : 8 (3/7) loss: 0.19806 d: 0.51262\n",
      "Epoch : 8 (4/7) loss: 0.21424 d: 0.51061\n",
      "Epoch : 8 (5/7) loss: 0.23881 d: 0.53074\n",
      "Epoch : 8 (6/7) loss: 0.20939 d: 0.53286\n",
      "Epoch : 9 (0/7) loss: 0.23998 d: 0.50972\n",
      "Epoch : 9 (1/7) loss: 0.20263 d: 0.50259\n",
      "Epoch : 9 (2/7) loss: 0.21624 d: 0.50451\n",
      "Epoch : 9 (3/7) loss: 0.19878 d: 0.50853\n",
      "Epoch : 9 (4/7) loss: 0.21002 d: 0.50964\n",
      "Epoch : 9 (5/7) loss: 0.22195 d: 0.50539\n",
      "Epoch : 9 (6/7) loss: 0.23353 d: 0.48335\n",
      "Epoch : 10 (0/7) loss: 0.19841 d: 0.48433\n",
      "Epoch : 10 (1/7) loss: 0.21243 d: 0.50427\n",
      "Epoch : 10 (2/7) loss: 0.20052 d: 0.49545\n",
      "Epoch : 10 (3/7) loss: 0.19742 d: 0.49770\n",
      "Epoch : 10 (4/7) loss: 0.19254 d: 0.48168\n",
      "Epoch : 10 (5/7) loss: 0.20242 d: 0.47633\n",
      "Epoch : 10 (6/7) loss: 0.16792 d: 0.47789\n",
      "Finished Training\n"
     ]
    }
   ],
   "source": [
    "net.train()\n",
    "for epoch in range(10):  # loop over the dataset multiple times\n",
    "    with torch.no_grad():\n",
    "        cent1 = []\n",
    "        cent0 = []\n",
    "        for i, data in enumerate(train_loader, 0):\n",
    "            inputs, labels = data\n",
    "            inputs = inputs.to(0)\n",
    "            labels = labels.to(0)\n",
    "            outputs, (score, _) = net(inputs)\n",
    "            cent1.append(score[labels.squeeze() == 1].mean(dim=0))\n",
    "            cent0.append(score[labels.squeeze()==0].mean(dim=0))\n",
    "        centroids1 = torch.stack(cent1, dim=0)\n",
    "        centroids0 = torch.stack(cent0, dim=0)\n",
    "        centroid1 = centroids1.mean(dim=0) \n",
    "        centroid0 = centroids0.mean(dim=0)\n",
    "    # running_loss = 0.0\n",
    "    for i, data in enumerate(train_loader, 0):\n",
    "        # get the inputs; data is a list of [inputs, labels]\n",
    "        inputs, labels = data\n",
    "        labels = labels.unsqueeze(1)\n",
    "        inputs = inputs.to(0)\n",
    "        labels = labels.to(0)\n",
    "        optimizer.zero_grad()\n",
    "\n",
    "        outputs, (score, feat) = net(inputs)\n",
    "        # d0 = torch.mean(((score[labels.squeeze()==0]**2+centroid0.expand(score[labels.squeeze()==0].shape[0], 128).detach()**2)**0.5))\n",
    "        d1 = torch.mean(((score[labels.squeeze()==1]**2+centroid1.expand(score[labels.squeeze()==1].shape[0], 128).detach()**2)**0.5))\n",
    "        d = d1\n",
    "        loss = criterion(outputs, labels)\n",
    "        total = loss + d\n",
    "        total.backward()\n",
    "        optimizer.step()\n",
    "        \n",
    "        # running_loss += loss.item()\n",
    "        print(f'Epoch : {epoch + 1} ({i}/{len(train_loader)}) loss: {loss.item():.5f} d: {d.item():.5f}')\n",
    "        running_loss = 0.0\n",
    "\n",
    "print('Finished Training')"
   ]
  },
  {
   "cell_type": "code",
   "execution_count": 46,
   "metadata": {},
   "outputs": [
    {
     "name": "stdout",
     "output_type": "stream",
     "text": [
      "tensor(94.9555, device='cuda:0')\n"
     ]
    }
   ],
   "source": [
    "correct = 0\n",
    "with torch.no_grad():\n",
    "    net.eval()\n",
    "    for x, y in test_loader:\n",
    "        x = x.to(0)\n",
    "        y = y.to(0)\n",
    "        outputs,_ = net(x)\n",
    "        out = outputs >= torch.FloatTensor([0.5]).to(0)\n",
    "        correct+=sum(out.squeeze(1)==y)\n",
    "        \n",
    "print(correct/len(test_dataset)*100)\n"
   ]
  },
  {
   "cell_type": "code",
   "execution_count": 47,
   "metadata": {},
   "outputs": [],
   "source": [
    "correct = 0\n",
    "test = []\n",
    "test_y = []\n",
    "with torch.no_grad():\n",
    "    net.eval()\n",
    "    for x, y in test_loader:\n",
    "        x = x.to(0)\n",
    "        y = y.to(0)\n",
    "        outputs,(score, feat) = net(x)\n",
    "        score = score.to('cpu')\n",
    "        for k in score:\n",
    "            test.append(k)\n",
    "        for k in y:\n",
    "            test_y.append(k)\n",
    "        # out = outputs >= torch.FloatTensor([0.5]).to(0)\n",
    "        # correct+=sum(out.squeeze(1)==y)\n",
    "        \n",
    "# print(correct/len(test_dataset)*100)\n"
   ]
  },
  {
   "cell_type": "code",
   "execution_count": 49,
   "metadata": {},
   "outputs": [
    {
     "name": "stderr",
     "output_type": "stream",
     "text": [
      "/home/vcl/anaconda3/envs/study/lib/python3.9/site-packages/sklearn/manifold/_t_sne.py:800: FutureWarning: The default initialization in TSNE will change from 'random' to 'pca' in 1.2.\n",
      "  warnings.warn(\n",
      "/home/vcl/anaconda3/envs/study/lib/python3.9/site-packages/sklearn/manifold/_t_sne.py:810: FutureWarning: The default learning rate in TSNE will change from 200.0 to 'auto' in 1.2.\n",
      "  warnings.warn(\n"
     ]
    },
    {
     "ename": "ValueError",
     "evalue": "Expected 2D array, got 1D array instead:\narray=[0.         0.         0.27934116 0.         0.         0.15422514\n 0.         0.         0.         0.         0.03320947 0.\n 0.         0.         0.         0.         0.18931828 0.6204775\n 1.1721205  0.         0.85035    0.3450432  0.         0.5470672\n 0.         0.         0.         0.         0.14495333 0.\n 0.90191597 0.         0.19423923 0.796457   0.79443103 0.\n 0.         0.6420194  0.         0.11193096 0.18925053 0.04367895\n 0.         0.         0.         0.11853251 0.         0.\n 0.         0.         0.27188125 0.         0.4421618  0.\n 0.12855878 0.         0.         1.0230421  0.         1.1175163\n 0.94489396 0.         0.14968601 0.         0.         0.\n 0.2773767  0.         0.15661383 0.         0.9630539  0.\n 0.         0.8627581  0.         0.572009   0.         0.\n 0.         0.         0.         1.0612655  0.         0.5603512\n 0.         0.11324334 0.17112961 0.37818983 0.41847762 0.\n 0.         0.         0.         0.         0.         0.\n 0.80407995 0.68966556 0.06250396 0.         0.3994764  0.\n 1.2817845  0.9500359  0.21881129 0.         0.         0.\n 0.         1.079526   0.4681133  0.01460646 0.         0.\n 0.         0.         0.         0.09403279 0.81179076 0.09799138\n 0.         0.         0.         0.11740102 0.         0.\n 0.5026644  0.        ].\nReshape your data either using array.reshape(-1, 1) if your data has a single feature or array.reshape(1, -1) if it contains a single sample.",
     "output_type": "error",
     "traceback": [
      "\u001b[0;31m---------------------------------------------------------------------------\u001b[0m",
      "\u001b[0;31mValueError\u001b[0m                                Traceback (most recent call last)",
      "\u001b[1;32m/data/min/ml_proj/base_distance.ipynb 셀 15\u001b[0m in \u001b[0;36m<cell line: 5>\u001b[0;34m()\u001b[0m\n\u001b[1;32m      <a href='vscode-notebook-cell:/data/min/ml_proj/base_distance.ipynb#X20sZmlsZQ%3D%3D?line=2'>3</a>\u001b[0m tsne \u001b[39m=\u001b[39m TSNE(n_components\u001b[39m=\u001b[39m \u001b[39m2\u001b[39m, random_state \u001b[39m=\u001b[39m \u001b[39m42\u001b[39m)\n\u001b[1;32m      <a href='vscode-notebook-cell:/data/min/ml_proj/base_distance.ipynb#X20sZmlsZQ%3D%3D?line=3'>4</a>\u001b[0m \u001b[39m#TSNE에는 transform 메서드가 없으므로 대신 fit_transform을 사용한다.\u001b[39;00m\n\u001b[0;32m----> <a href='vscode-notebook-cell:/data/min/ml_proj/base_distance.ipynb#X20sZmlsZQ%3D%3D?line=4'>5</a>\u001b[0m lemon_tsne \u001b[39m=\u001b[39m tsne\u001b[39m.\u001b[39;49mfit_transform(test[\u001b[39m0\u001b[39;49m])\n\u001b[1;32m      <a href='vscode-notebook-cell:/data/min/ml_proj/base_distance.ipynb#X20sZmlsZQ%3D%3D?line=5'>6</a>\u001b[0m plt\u001b[39m.\u001b[39mfigure(figsize\u001b[39m=\u001b[39m(\u001b[39m10\u001b[39m,\u001b[39m10\u001b[39m))\n\u001b[1;32m      <a href='vscode-notebook-cell:/data/min/ml_proj/base_distance.ipynb#X20sZmlsZQ%3D%3D?line=6'>7</a>\u001b[0m \u001b[39m# plt.xlim(digits_tsne[:,0].min(), digits_tsne[:,0].max()+1)\u001b[39;00m\n\u001b[1;32m      <a href='vscode-notebook-cell:/data/min/ml_proj/base_distance.ipynb#X20sZmlsZQ%3D%3D?line=7'>8</a>\u001b[0m \u001b[39m# plt.ylim(digits_tsne[:,1].min(), digits_tsne[:,1].max()+1)\u001b[39;00m\n",
      "File \u001b[0;32m~/anaconda3/envs/study/lib/python3.9/site-packages/sklearn/manifold/_t_sne.py:1123\u001b[0m, in \u001b[0;36mTSNE.fit_transform\u001b[0;34m(self, X, y)\u001b[0m\n\u001b[1;32m   1103\u001b[0m \u001b[39m\"\"\"Fit X into an embedded space and return that transformed output.\u001b[39;00m\n\u001b[1;32m   1104\u001b[0m \n\u001b[1;32m   1105\u001b[0m \u001b[39mParameters\u001b[39;00m\n\u001b[0;32m   (...)\u001b[0m\n\u001b[1;32m   1120\u001b[0m \u001b[39m    Embedding of the training data in low-dimensional space.\u001b[39;00m\n\u001b[1;32m   1121\u001b[0m \u001b[39m\"\"\"\u001b[39;00m\n\u001b[1;32m   1122\u001b[0m \u001b[39mself\u001b[39m\u001b[39m.\u001b[39m_check_params_vs_input(X)\n\u001b[0;32m-> 1123\u001b[0m embedding \u001b[39m=\u001b[39m \u001b[39mself\u001b[39;49m\u001b[39m.\u001b[39;49m_fit(X)\n\u001b[1;32m   1124\u001b[0m \u001b[39mself\u001b[39m\u001b[39m.\u001b[39membedding_ \u001b[39m=\u001b[39m embedding\n\u001b[1;32m   1125\u001b[0m \u001b[39mreturn\u001b[39;00m \u001b[39mself\u001b[39m\u001b[39m.\u001b[39membedding_\n",
      "File \u001b[0;32m~/anaconda3/envs/study/lib/python3.9/site-packages/sklearn/manifold/_t_sne.py:843\u001b[0m, in \u001b[0;36mTSNE._fit\u001b[0;34m(self, X, skip_num_points)\u001b[0m\n\u001b[1;32m    841\u001b[0m         \u001b[39mraise\u001b[39;00m \u001b[39mValueError\u001b[39;00m(\u001b[39m\"\u001b[39m\u001b[39m'\u001b[39m\u001b[39mlearning_rate\u001b[39m\u001b[39m'\u001b[39m\u001b[39m must be a positive number or \u001b[39m\u001b[39m'\u001b[39m\u001b[39mauto\u001b[39m\u001b[39m'\u001b[39m\u001b[39m.\u001b[39m\u001b[39m\"\u001b[39m)\n\u001b[1;32m    842\u001b[0m \u001b[39mif\u001b[39;00m \u001b[39mself\u001b[39m\u001b[39m.\u001b[39mmethod \u001b[39m==\u001b[39m \u001b[39m\"\u001b[39m\u001b[39mbarnes_hut\u001b[39m\u001b[39m\"\u001b[39m:\n\u001b[0;32m--> 843\u001b[0m     X \u001b[39m=\u001b[39m \u001b[39mself\u001b[39;49m\u001b[39m.\u001b[39;49m_validate_data(\n\u001b[1;32m    844\u001b[0m         X,\n\u001b[1;32m    845\u001b[0m         accept_sparse\u001b[39m=\u001b[39;49m[\u001b[39m\"\u001b[39;49m\u001b[39mcsr\u001b[39;49m\u001b[39m\"\u001b[39;49m],\n\u001b[1;32m    846\u001b[0m         ensure_min_samples\u001b[39m=\u001b[39;49m\u001b[39m2\u001b[39;49m,\n\u001b[1;32m    847\u001b[0m         dtype\u001b[39m=\u001b[39;49m[np\u001b[39m.\u001b[39;49mfloat32, np\u001b[39m.\u001b[39;49mfloat64],\n\u001b[1;32m    848\u001b[0m     )\n\u001b[1;32m    849\u001b[0m \u001b[39melse\u001b[39;00m:\n\u001b[1;32m    850\u001b[0m     X \u001b[39m=\u001b[39m \u001b[39mself\u001b[39m\u001b[39m.\u001b[39m_validate_data(\n\u001b[1;32m    851\u001b[0m         X, accept_sparse\u001b[39m=\u001b[39m[\u001b[39m\"\u001b[39m\u001b[39mcsr\u001b[39m\u001b[39m\"\u001b[39m, \u001b[39m\"\u001b[39m\u001b[39mcsc\u001b[39m\u001b[39m\"\u001b[39m, \u001b[39m\"\u001b[39m\u001b[39mcoo\u001b[39m\u001b[39m\"\u001b[39m], dtype\u001b[39m=\u001b[39m[np\u001b[39m.\u001b[39mfloat32, np\u001b[39m.\u001b[39mfloat64]\n\u001b[1;32m    852\u001b[0m     )\n",
      "File \u001b[0;32m~/anaconda3/envs/study/lib/python3.9/site-packages/sklearn/base.py:577\u001b[0m, in \u001b[0;36mBaseEstimator._validate_data\u001b[0;34m(self, X, y, reset, validate_separately, **check_params)\u001b[0m\n\u001b[1;32m    575\u001b[0m     \u001b[39mraise\u001b[39;00m \u001b[39mValueError\u001b[39;00m(\u001b[39m\"\u001b[39m\u001b[39mValidation should be done on X, y or both.\u001b[39m\u001b[39m\"\u001b[39m)\n\u001b[1;32m    576\u001b[0m \u001b[39melif\u001b[39;00m \u001b[39mnot\u001b[39;00m no_val_X \u001b[39mand\u001b[39;00m no_val_y:\n\u001b[0;32m--> 577\u001b[0m     X \u001b[39m=\u001b[39m check_array(X, input_name\u001b[39m=\u001b[39;49m\u001b[39m\"\u001b[39;49m\u001b[39mX\u001b[39;49m\u001b[39m\"\u001b[39;49m, \u001b[39m*\u001b[39;49m\u001b[39m*\u001b[39;49mcheck_params)\n\u001b[1;32m    578\u001b[0m     out \u001b[39m=\u001b[39m X\n\u001b[1;32m    579\u001b[0m \u001b[39melif\u001b[39;00m no_val_X \u001b[39mand\u001b[39;00m \u001b[39mnot\u001b[39;00m no_val_y:\n",
      "File \u001b[0;32m~/anaconda3/envs/study/lib/python3.9/site-packages/sklearn/utils/validation.py:879\u001b[0m, in \u001b[0;36mcheck_array\u001b[0;34m(array, accept_sparse, accept_large_sparse, dtype, order, copy, force_all_finite, ensure_2d, allow_nd, ensure_min_samples, ensure_min_features, estimator, input_name)\u001b[0m\n\u001b[1;32m    877\u001b[0m     \u001b[39m# If input is 1D raise error\u001b[39;00m\n\u001b[1;32m    878\u001b[0m     \u001b[39mif\u001b[39;00m array\u001b[39m.\u001b[39mndim \u001b[39m==\u001b[39m \u001b[39m1\u001b[39m:\n\u001b[0;32m--> 879\u001b[0m         \u001b[39mraise\u001b[39;00m \u001b[39mValueError\u001b[39;00m(\n\u001b[1;32m    880\u001b[0m             \u001b[39m\"\u001b[39m\u001b[39mExpected 2D array, got 1D array instead:\u001b[39m\u001b[39m\\n\u001b[39;00m\u001b[39marray=\u001b[39m\u001b[39m{}\u001b[39;00m\u001b[39m.\u001b[39m\u001b[39m\\n\u001b[39;00m\u001b[39m\"\u001b[39m\n\u001b[1;32m    881\u001b[0m             \u001b[39m\"\u001b[39m\u001b[39mReshape your data either using array.reshape(-1, 1) if \u001b[39m\u001b[39m\"\u001b[39m\n\u001b[1;32m    882\u001b[0m             \u001b[39m\"\u001b[39m\u001b[39myour data has a single feature or array.reshape(1, -1) \u001b[39m\u001b[39m\"\u001b[39m\n\u001b[1;32m    883\u001b[0m             \u001b[39m\"\u001b[39m\u001b[39mif it contains a single sample.\u001b[39m\u001b[39m\"\u001b[39m\u001b[39m.\u001b[39mformat(array)\n\u001b[1;32m    884\u001b[0m         )\n\u001b[1;32m    886\u001b[0m \u001b[39mif\u001b[39;00m dtype_numeric \u001b[39mand\u001b[39;00m array\u001b[39m.\u001b[39mdtype\u001b[39m.\u001b[39mkind \u001b[39min\u001b[39;00m \u001b[39m\"\u001b[39m\u001b[39mUSV\u001b[39m\u001b[39m\"\u001b[39m:\n\u001b[1;32m    887\u001b[0m     \u001b[39mraise\u001b[39;00m \u001b[39mValueError\u001b[39;00m(\n\u001b[1;32m    888\u001b[0m         \u001b[39m\"\u001b[39m\u001b[39mdtype=\u001b[39m\u001b[39m'\u001b[39m\u001b[39mnumeric\u001b[39m\u001b[39m'\u001b[39m\u001b[39m is not compatible with arrays of bytes/strings.\u001b[39m\u001b[39m\"\u001b[39m\n\u001b[1;32m    889\u001b[0m         \u001b[39m\"\u001b[39m\u001b[39mConvert your data to numeric values explicitly instead.\u001b[39m\u001b[39m\"\u001b[39m\n\u001b[1;32m    890\u001b[0m     )\n",
      "\u001b[0;31mValueError\u001b[0m: Expected 2D array, got 1D array instead:\narray=[0.         0.         0.27934116 0.         0.         0.15422514\n 0.         0.         0.         0.         0.03320947 0.\n 0.         0.         0.         0.         0.18931828 0.6204775\n 1.1721205  0.         0.85035    0.3450432  0.         0.5470672\n 0.         0.         0.         0.         0.14495333 0.\n 0.90191597 0.         0.19423923 0.796457   0.79443103 0.\n 0.         0.6420194  0.         0.11193096 0.18925053 0.04367895\n 0.         0.         0.         0.11853251 0.         0.\n 0.         0.         0.27188125 0.         0.4421618  0.\n 0.12855878 0.         0.         1.0230421  0.         1.1175163\n 0.94489396 0.         0.14968601 0.         0.         0.\n 0.2773767  0.         0.15661383 0.         0.9630539  0.\n 0.         0.8627581  0.         0.572009   0.         0.\n 0.         0.         0.         1.0612655  0.         0.5603512\n 0.         0.11324334 0.17112961 0.37818983 0.41847762 0.\n 0.         0.         0.         0.         0.         0.\n 0.80407995 0.68966556 0.06250396 0.         0.3994764  0.\n 1.2817845  0.9500359  0.21881129 0.         0.         0.\n 0.         1.079526   0.4681133  0.01460646 0.         0.\n 0.         0.         0.         0.09403279 0.81179076 0.09799138\n 0.         0.         0.         0.11740102 0.         0.\n 0.5026644  0.        ].\nReshape your data either using array.reshape(-1, 1) if your data has a single feature or array.reshape(1, -1) if it contains a single sample."
     ]
    }
   ],
   "source": [
    "from sklearn.manifold import TSNE\n",
    "plt.rc('axes', unicode_minus=False)\n",
    "tsne = TSNE(n_components= 2, random_state = 42)\n",
    "#TSNE에는 transform 메서드가 없으므로 대신 fit_transform을 사용한다.\n",
    "lemon_tsne = tsne.fit_transform(test)\n",
    "plt.figure(figsize=(10,10))\n",
    "# plt.xlim(digits_tsne[:,0].min(), digits_tsne[:,0].max()+1)\n",
    "# plt.ylim(digits_tsne[:,1].min(), digits_tsne[:,1].max()+1)\n",
    "\n",
    "color = ['#476A2A','#7851B8']\n",
    "color = ['k','red']\n",
    "for i in range(len(test)):\n",
    "        # plt.text(lemon_tsne[i,0], lemon_tsne[i,1], str(int(test_y[0][i].item())),\n",
    "        #         color = color[int(test_y[0][i].item())],\n",
    "        #         fontdict = {'weight':'bold','size':9})\n",
    "        plt.scatter(lemon_tsne[i,0], lemon_tsne[i,1],\n",
    "                color = color[int(test_y[i].item())],)\n",
    "# for i in range(len(test0[0]),len(test0[0])+len(test1[0])):\n",
    "#         plt.text(lemon_tsne[i,0], lemon_tsne[i,1], str(1),\n",
    "#                 color = ,\n",
    "#                 fontdict = {'weight':'bold','size':9})\n",
    "plt.xlim(lemon_tsne[:, 0].min(), lemon_tsne[:,0].max()) # 최소, 최대\n",
    "plt.ylim(lemon_tsne[:, 1].min(), lemon_tsne[:,1].max()) # 최소, 최대\n",
    "plt.xlabel(\"x0\")\n",
    "plt.ylabel(\"x1\")\n",
    "plt.show()"
   ]
  },
  {
   "cell_type": "code",
   "execution_count": 133,
   "metadata": {},
   "outputs": [],
   "source": [
    "import skimage\n",
    "params = list(net.parameters())\n",
    "with torch.no_grad():\n",
    "    net.eval()\n",
    "    for x, y in test_loader:\n",
    "        # x = x.to(0)\n",
    "        # y = y.to(0)\n",
    "        outputs,(score,feat) = net(x)\n",
    "        out = outputs >= torch.FloatTensor([0.5])\n",
    "        break\n",
    "        \n",
    "\n"
   ]
  },
  {
   "cell_type": "code",
   "execution_count": 134,
   "metadata": {},
   "outputs": [],
   "source": [
    "def get_actmap(features, sz=[224,224]):\n",
    "    \"\"\"\n",
    "    :param features: (1, 2048, 16, 8) activation map\n",
    "    :return:\n",
    "    \"\"\"\n",
    "    features = (features ** 2).sum(1)  # (1, 16, 8)\n",
    "    b, h, w = features.size()\n",
    "    features = features.view(b, h * w)\n",
    "    features = nn.functional.normalize(features, p=2, dim=1)\n",
    "    acts = features.view(b, h, w)\n",
    "    all_acts = []\n",
    "    for i in range(b):\n",
    "        act = acts[i].numpy()\n",
    "        act = cv2.resize(act, (sz[1], sz[0]))\n",
    "        act = 255 * (act - act.max()) / (act.max() - act.min() + 1e-12)\n",
    "        act = np.uint8(np.floor(act))\n",
    "        all_acts.append(act)\n",
    "    return all_acts"
   ]
  },
  {
   "cell_type": "code",
   "execution_count": 135,
   "metadata": {},
   "outputs": [],
   "source": [
    "acts = get_actmap(feat)"
   ]
  },
  {
   "cell_type": "code",
   "execution_count": 136,
   "metadata": {},
   "outputs": [
    {
     "name": "stderr",
     "output_type": "stream",
     "text": [
      "Clipping input data to the valid range for imshow with RGB data ([0..1] for floats or [0..255] for integers).\n"
     ]
    },
    {
     "name": "stdout",
     "output_type": "stream",
     "text": [
      "1 tensor(1.)\n"
     ]
    },
    {
     "data": {
      "image/png": "[encoded data removed]",
      "text/plain": [
       "<Figure size 432x288 with 2 Axes>"
      ]
     },
     "metadata": {
      "needs_background": "light"
     },
     "output_type": "display_data"
    }
   ],
   "source": [
    "\n",
    "acts = get_actmap(feat)\n",
    "import random\n",
    "i = random.randint(0, 128)\n",
    "print(int(out[i][0]), y[i])\n",
    "plt.subplot(1, 2, 1)\n",
    "plt.imshow(x[i].T, cmap='gray')\n",
    "plt.imshow(acts[i],alpha=0.4, cmap='jet')\n",
    "plt.subplot(1, 2, 2)\n",
    "plt.imshow(acts[i], cmap='jet')\n",
    "plt.show()"
   ]
  },
  {
   "cell_type": "code",
   "execution_count": null,
   "metadata": {},
   "outputs": [],
   "source": []
  },
  {
   "cell_type": "code",
   "execution_count": null,
   "metadata": {},
   "outputs": [],
   "source": []
  },
  {
   "cell_type": "code",
   "execution_count": null,
   "metadata": {},
   "outputs": [],
   "source": []
  },
  {
   "cell_type": "code",
   "execution_count": 137,
   "metadata": {},
   "outputs": [],
   "source": [
    "correct = 0\n",
    "test = []\n",
    "test_y = []\n",
    "with torch.no_grad():\n",
    "    net.eval()\n",
    "    for x, y in test_loader:\n",
    "        # x = x.to(0)\n",
    "        # y = y.to(0)\n",
    "        outputs = net(x)\n",
    "        test.append(outputs)\n",
    "        test_y.append(y)\n",
    "        # out = outputs >= torch.FloatTensor([0.5]).to(0)\n",
    "        # correct+=sum(out.squeeze(1)==y)\n",
    "        \n",
    "# print(correct/len(test_dataset)*100)\n"
   ]
  },
  {
   "cell_type": "code",
   "execution_count": null,
   "metadata": {},
   "outputs": [],
   "source": []
  }
 ],
 "metadata": {
  "kernelspec": {
   "display_name": "Python 3.9.13 ('study')",
   "language": "python",
   "name": "python3"
  },
  "language_info": {
   "codemirror_mode": {
    "name": "ipython",
    "version": 3
   },
   "file_extension": ".py",
   "mimetype": "text/x-python",
   "name": "python",
   "nbconvert_exporter": "python",
   "pygments_lexer": "ipython3",
   "version": "3.9.13"
  },
  "vscode": {
   "interpreter": {
    "hash": "00c7ef7a4e021ecd722c6e345242d86c277c2547ffba1a066bf176cba016eb9f"
   }
  }
 },
 "nbformat": 4,
 "nbformat_minor": 2
}
